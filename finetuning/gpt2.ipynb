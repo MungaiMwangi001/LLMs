{
 "cells": [
  {
   "cell_type": "markdown",
   "id": "847d8dc4",
   "metadata": {},
   "source": [
    "## load the Dataset\n"
   ]
  },
  {
   "cell_type": "code",
   "execution_count": 2,
   "id": "a1663397",
   "metadata": {},
   "outputs": [
    {
     "name": "stderr",
     "output_type": "stream",
     "text": [
      "Xet Storage is enabled for this repo, but the 'hf_xet' package is not installed. Falling back to regular HTTP download. For better performance, install the package with: `pip install huggingface_hub[hf_xet]` or `pip install hf_xet`\n",
      "Xet Storage is enabled for this repo, but the 'hf_xet' package is not installed. Falling back to regular HTTP download. For better performance, install the package with: `pip install huggingface_hub[hf_xet]` or `pip install hf_xet`\n",
      "Generating train split: 100%|██████████| 26732/26732 [00:00<00:00, 1402718.99 examples/s]\n",
      "Generating test split: 100%|██████████| 3432/3432 [00:00<00:00, 617063.24 examples/s]\n"
     ]
    }
   ],
   "source": [
    "from datasets import load_dataset   \n",
    "from datasets import DatasetDict\n",
    "import pandas as pd\n",
    "\n",
    "dataset = load_dataset(\"mteb/tweet_sentiment_extraction\")\n",
    "df = pd.DataFrame(dataset['train'])\n"
   ]
  },
  {
   "cell_type": "markdown",
   "id": "1fec280d",
   "metadata": {},
   "source": [
    "## Tokenizers\n",
    "we need a tokenizer to prepare it to be parsed by our model.\n",
    "\n",
    "As LLMs work with tokens, we require a tokenizer to process the dataset. To process your dataset in one step, use the Datasets map method to apply a preprocessing function over the entire dataset.\n"
   ]
  }
 ],
 "metadata": {
  "kernelspec": {
   "display_name": "myenv",
   "language": "python",
   "name": "python3"
  },
  "language_info": {
   "codemirror_mode": {
    "name": "ipython",
    "version": 3
   },
   "file_extension": ".py",
   "mimetype": "text/x-python",
   "name": "python",
   "nbconvert_exporter": "python",
   "pygments_lexer": "ipython3",
   "version": "3.13.5"
  }
 },
 "nbformat": 4,
 "nbformat_minor": 5
}
